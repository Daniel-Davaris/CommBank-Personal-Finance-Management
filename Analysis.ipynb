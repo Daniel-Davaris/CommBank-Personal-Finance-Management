{
 "cells": [
  {
   "cell_type": "code",
   "execution_count": 41,
   "metadata": {},
   "outputs": [
    {
     "name": "stdout",
     "output_type": "stream",
     "text": [
      "(75, 4)\n",
      "(169, 4)\n",
      "(1707, 4)\n",
      "(327, 4)\n"
     ]
    }
   ],
   "source": [
    "import os\n",
    "import pandas as pd\n",
    "pd.set_option('display.max_columns', None)\n",
    "pd.set_option('display.max_rows', None)\n",
    "\n",
    "data_folder = 'Data/'\n",
    "\n",
    "def read_dataset(filename):\n",
    "    file_path = os.path.join(data_folder, filename)\n",
    "    ds = pd.read_csv(file_path)\n",
    "    ds.columns = ['Date', 'Amount', 'Description','Balance']\n",
    "    return ds\n",
    "\n",
    "Running_costs_ds = read_dataset('Expenses - Running Costs.csv')\n",
    "Expenses_ds = read_dataset('Other Expenses.csv')\n",
    "Primary_ds = read_dataset('Primary.csv')\n",
    "Savings_ds = read_dataset('Savings.csv')\n",
    "\n",
    "print(Running_costs_ds.shape)\n",
    "print(Expenses_ds.shape)\n",
    "print(Primary_ds.shape)\n",
    "print(Savings_ds.shape)\n"
   ]
  },
  {
   "cell_type": "code",
   "execution_count": 43,
   "metadata": {},
   "outputs": [
    {
     "name": "stdout",
     "output_type": "stream",
     "text": [
      "(2278, 5)\n"
     ]
    }
   ],
   "source": [
    "def combined_dataset():\n",
    "    combined_ds = pd.concat([Running_costs_ds, Expenses_ds, Primary_ds, Savings_ds])\n",
    "    combined_ds = combined_ds.reset_index(drop=True)\n",
    "\n",
    "    combined_ds['Account'] = ''\n",
    "    combined_ds.loc[combined_ds.index < Running_costs_ds.shape[0], 'Account'] = 'Running Costs'\n",
    "    combined_ds.loc[(combined_ds.index >= Running_costs_ds.shape[0]) & (combined_ds.index < Running_costs_ds.shape[0] + Expenses_ds.shape[0]), 'Account'] = 'Expenses'\n",
    "    combined_ds.loc[(combined_ds.index >= Running_costs_ds.shape[0] + Expenses_ds.shape[0]) & (combined_ds.index < Running_costs_ds.shape[0] + Expenses_ds.shape[0] + Primary_ds.shape[0]), 'Account'] = 'Primary'\n",
    "    combined_ds.loc[(combined_ds.index >= Running_costs_ds.shape[0] + Expenses_ds.shape[0] + Primary_ds.shape[0]), 'Account'] = 'Savings'\n",
    "   \n",
    "    combined_ds = combined_ds.reset_index(drop=True)\n",
    "    combined_ds['Date'] = pd.to_datetime(combined_ds['Date'], format='%d/%m/%Y')\n",
    "    combined_ds = combined_ds.sort_values(by=['Date'], ascending=False)\n",
    "    combined_ds = combined_ds.reset_index(drop=True)\n",
    "    return combined_ds\n",
    "\n",
    "combined_ds = combined_dataset()\n",
    "print(combined_ds.shape)"
   ]
  },
  {
   "cell_type": "code",
   "execution_count": null,
   "metadata": {},
   "outputs": [],
   "source": [
    "\n",
    "with pd.option_context('display.max_rows', None, 'display.max_columns', None):\n",
    "    print(combined_ds)\n",
    "combined_ds"
   ]
  }
 ],
 "metadata": {
  "kernelspec": {
   "display_name": "Python 3",
   "language": "python",
   "name": "python3"
  },
  "language_info": {
   "codemirror_mode": {
    "name": "ipython",
    "version": 3
   },
   "file_extension": ".py",
   "mimetype": "text/x-python",
   "name": "python",
   "nbconvert_exporter": "python",
   "pygments_lexer": "ipython3",
   "version": "3.11.1"
  }
 },
 "nbformat": 4,
 "nbformat_minor": 2
}
